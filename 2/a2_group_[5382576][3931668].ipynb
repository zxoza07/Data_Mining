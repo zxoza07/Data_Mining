{
 "cells": [
  {
   "cell_type": "markdown",
   "metadata": {},
   "source": [
    "# Assignment done by:\n",
    "\n",
    "# Jakob Peschel  (5382576)\n",
    "# Wiebke Ringels (3931668)"
   ]
  },
  {
   "cell_type": "markdown",
   "metadata": {
    "colab_type": "text",
    "id": "tSS-ZXGkNI9j"
   },
   "source": [
    "## Data Mining and Probabilistic Reasoning, WS19/20\n",
    "Dr. Gjergji Kasneci, The University of Tübingen\n",
    "\n",
    "# Homework 2\n",
    "----"
   ]
  },
  {
   "cell_type": "markdown",
   "metadata": {
    "colab_type": "text",
    "id": "X9DOCni6MhtU"
   },
   "source": [
    "\n",
    "Note: Please add your solution to the homework in this Jupyter Notebook and upload it to Ilias until 03.12.19, 09:00 o'clock. Make sure you use the following naming convention: a2_[lastname]_[firstname]_[matrikelnr].ipynb\n",
    "If you want to work as a group, please use the following naming convention: a2_group_[matrikelnr1]_[matrikelnr2]_[...].ipynb. Also list your group members here, for example:\n",
    "- John Snow, student ID,\n",
    "- Ygritte, student ID,\n",
    "- ... \n",
    "\n",
    "\n",
    "----\n",
    "**Your task is to:**\n",
    "Given a data set aswer to questions below using **code**, for example: \n",
    "```\n",
    "#Q1 How old was the youngest athlete in Olympic games based on the provided dataset?\n",
    "print(df.Age.min())\n",
    "> 10 \n",
    "```\n",
    "and yes this is true: \n",
    "\n",
    "`According to Olympic figures, Greek gymnast Dimitrios Loundras is the youngest known medalist. When Loundras finished third in the team parallels bars at the 1896 Olympic Games, he was 10 years and 218 days old.`\n",
    "\n",
    "\n",
    "------\n",
    "\n",
    "\n",
    "## In order to pass the HW, you need to answer correctly: **5 questions.**\n",
    "\n"
   ]
  },
  {
   "cell_type": "markdown",
   "metadata": {
    "colab_type": "text",
    "id": "UQSybNnW5bO2"
   },
   "source": [
    "Vadim (vadim.borisov@uni-tuebingen.de)"
   ]
  },
  {
   "cell_type": "code",
   "execution_count": null,
   "metadata": {
    "colab": {},
    "colab_type": "code",
    "id": "hnpIJKyX5osG"
   },
   "outputs": [],
   "source": []
  },
  {
   "cell_type": "code",
   "execution_count": null,
   "metadata": {
    "colab": {},
    "colab_type": "code",
    "id": "wR4jrveO5o0K"
   },
   "outputs": [],
   "source": []
  },
  {
   "cell_type": "code",
   "execution_count": 1,
   "metadata": {
    "colab": {},
    "colab_type": "code",
    "id": "rpoEXObLNGxK"
   },
   "outputs": [],
   "source": [
    "# load modules\n",
    "import pandas as pd\n",
    "import numpy as np"
   ]
  },
  {
   "cell_type": "markdown",
   "metadata": {},
   "source": [
    "# Please comment/uncomment the correct line  below depending on internet connection and file"
   ]
  },
  {
   "cell_type": "code",
   "execution_count": 2,
   "metadata": {
    "colab": {},
    "colab_type": "code",
    "id": "JILbGXrZOZwJ"
   },
   "outputs": [],
   "source": [
    "# data frame \n",
    "link_to_data = 'https://www.dropbox.com/s/16ydeynisr0ngh9/athlete_events.csv?dl=1'\n",
    "# use line below if you are online\n",
    "df = pd.read_csv(link_to_data)\n",
    "# use line below if you are offline instead\n",
    "#df = pd.read_csv('data/athlete_events.csv')    \n"
   ]
  },
  {
   "cell_type": "code",
   "execution_count": 3,
   "metadata": {},
   "outputs": [
    {
     "data": {
      "text/html": [
       "<div>\n",
       "<style scoped>\n",
       "    .dataframe tbody tr th:only-of-type {\n",
       "        vertical-align: middle;\n",
       "    }\n",
       "\n",
       "    .dataframe tbody tr th {\n",
       "        vertical-align: top;\n",
       "    }\n",
       "\n",
       "    .dataframe thead th {\n",
       "        text-align: right;\n",
       "    }\n",
       "</style>\n",
       "<table border=\"1\" class=\"dataframe\">\n",
       "  <thead>\n",
       "    <tr style=\"text-align: right;\">\n",
       "      <th></th>\n",
       "      <th>ID</th>\n",
       "      <th>Name</th>\n",
       "      <th>Sex</th>\n",
       "      <th>Age</th>\n",
       "      <th>Height</th>\n",
       "      <th>Weight</th>\n",
       "      <th>Team</th>\n",
       "      <th>NOC</th>\n",
       "      <th>Games</th>\n",
       "      <th>Year</th>\n",
       "      <th>Season</th>\n",
       "      <th>City</th>\n",
       "      <th>Sport</th>\n",
       "      <th>Event</th>\n",
       "      <th>Medal</th>\n",
       "    </tr>\n",
       "  </thead>\n",
       "  <tbody>\n",
       "    <tr>\n",
       "      <th>0</th>\n",
       "      <td>1</td>\n",
       "      <td>A Dijiang</td>\n",
       "      <td>M</td>\n",
       "      <td>24.0</td>\n",
       "      <td>180.0</td>\n",
       "      <td>80.0</td>\n",
       "      <td>China</td>\n",
       "      <td>CHN</td>\n",
       "      <td>1992 Summer</td>\n",
       "      <td>1992</td>\n",
       "      <td>Summer</td>\n",
       "      <td>Barcelona</td>\n",
       "      <td>Basketball</td>\n",
       "      <td>Basketball Men's Basketball</td>\n",
       "      <td>NaN</td>\n",
       "    </tr>\n",
       "    <tr>\n",
       "      <th>1</th>\n",
       "      <td>2</td>\n",
       "      <td>A Lamusi</td>\n",
       "      <td>M</td>\n",
       "      <td>23.0</td>\n",
       "      <td>170.0</td>\n",
       "      <td>60.0</td>\n",
       "      <td>China</td>\n",
       "      <td>CHN</td>\n",
       "      <td>2012 Summer</td>\n",
       "      <td>2012</td>\n",
       "      <td>Summer</td>\n",
       "      <td>London</td>\n",
       "      <td>Judo</td>\n",
       "      <td>Judo Men's Extra-Lightweight</td>\n",
       "      <td>NaN</td>\n",
       "    </tr>\n",
       "    <tr>\n",
       "      <th>2</th>\n",
       "      <td>3</td>\n",
       "      <td>Gunnar Nielsen Aaby</td>\n",
       "      <td>M</td>\n",
       "      <td>24.0</td>\n",
       "      <td>NaN</td>\n",
       "      <td>NaN</td>\n",
       "      <td>Denmark</td>\n",
       "      <td>DEN</td>\n",
       "      <td>1920 Summer</td>\n",
       "      <td>1920</td>\n",
       "      <td>Summer</td>\n",
       "      <td>Antwerpen</td>\n",
       "      <td>Football</td>\n",
       "      <td>Football Men's Football</td>\n",
       "      <td>NaN</td>\n",
       "    </tr>\n",
       "    <tr>\n",
       "      <th>3</th>\n",
       "      <td>4</td>\n",
       "      <td>Edgar Lindenau Aabye</td>\n",
       "      <td>M</td>\n",
       "      <td>34.0</td>\n",
       "      <td>NaN</td>\n",
       "      <td>NaN</td>\n",
       "      <td>Denmark/Sweden</td>\n",
       "      <td>DEN</td>\n",
       "      <td>1900 Summer</td>\n",
       "      <td>1900</td>\n",
       "      <td>Summer</td>\n",
       "      <td>Paris</td>\n",
       "      <td>Tug-Of-War</td>\n",
       "      <td>Tug-Of-War Men's Tug-Of-War</td>\n",
       "      <td>Gold</td>\n",
       "    </tr>\n",
       "    <tr>\n",
       "      <th>4</th>\n",
       "      <td>5</td>\n",
       "      <td>Christine Jacoba Aaftink</td>\n",
       "      <td>F</td>\n",
       "      <td>21.0</td>\n",
       "      <td>185.0</td>\n",
       "      <td>82.0</td>\n",
       "      <td>Netherlands</td>\n",
       "      <td>NED</td>\n",
       "      <td>1988 Winter</td>\n",
       "      <td>1988</td>\n",
       "      <td>Winter</td>\n",
       "      <td>Calgary</td>\n",
       "      <td>Speed Skating</td>\n",
       "      <td>Speed Skating Women's 500 metres</td>\n",
       "      <td>NaN</td>\n",
       "    </tr>\n",
       "  </tbody>\n",
       "</table>\n",
       "</div>"
      ],
      "text/plain": [
       "   ID                      Name Sex   Age  Height  Weight            Team  \\\n",
       "0   1                 A Dijiang   M  24.0   180.0    80.0           China   \n",
       "1   2                  A Lamusi   M  23.0   170.0    60.0           China   \n",
       "2   3       Gunnar Nielsen Aaby   M  24.0     NaN     NaN         Denmark   \n",
       "3   4      Edgar Lindenau Aabye   M  34.0     NaN     NaN  Denmark/Sweden   \n",
       "4   5  Christine Jacoba Aaftink   F  21.0   185.0    82.0     Netherlands   \n",
       "\n",
       "   NOC        Games  Year  Season       City          Sport  \\\n",
       "0  CHN  1992 Summer  1992  Summer  Barcelona     Basketball   \n",
       "1  CHN  2012 Summer  2012  Summer     London           Judo   \n",
       "2  DEN  1920 Summer  1920  Summer  Antwerpen       Football   \n",
       "3  DEN  1900 Summer  1900  Summer      Paris     Tug-Of-War   \n",
       "4  NED  1988 Winter  1988  Winter    Calgary  Speed Skating   \n",
       "\n",
       "                              Event Medal  \n",
       "0       Basketball Men's Basketball   NaN  \n",
       "1      Judo Men's Extra-Lightweight   NaN  \n",
       "2           Football Men's Football   NaN  \n",
       "3       Tug-Of-War Men's Tug-Of-War  Gold  \n",
       "4  Speed Skating Women's 500 metres   NaN  "
      ]
     },
     "execution_count": 3,
     "metadata": {},
     "output_type": "execute_result"
    }
   ],
   "source": [
    "df.head()"
   ]
  },
  {
   "cell_type": "markdown",
   "metadata": {
    "colab_type": "text",
    "id": "e4Eu1ZHBPNci"
   },
   "source": [
    "Q1. How old were the youngest male and female participants of the Olympic Game in 2012? "
   ]
  },
  {
   "cell_type": "code",
   "execution_count": 4,
   "metadata": {},
   "outputs": [
    {
     "name": "stdout",
     "output_type": "stream",
     "text": [
      "The youngest male participant was 10.0 years old.\n",
      "The youngest female participant was 11.0 years old.\n"
     ]
    }
   ],
   "source": [
    "print('The youngest male participant was', df[df.Sex == 'M'].Age.min(),'years old.')\n",
    "print('The youngest female participant was', df[df.Sex == 'F'].Age.min(),'years old.')"
   ]
  },
  {
   "cell_type": "markdown",
   "metadata": {
    "colab_type": "text",
    "id": "5tm3LKyAP0Lu"
   },
   "source": [
    "Q2. What are the mean and standart deviation of height for male tennis playes? Round your answer to the first two decimal. "
   ]
  },
  {
   "cell_type": "code",
   "execution_count": 5,
   "metadata": {},
   "outputs": [
    {
     "name": "stdout",
     "output_type": "stream",
     "text": [
      "The height of male tennis players is 184.85 cm on average with a standard deviation of 6.73 cm.\n"
     ]
    }
   ],
   "source": [
    "stat_values = df[(df.Sex == 'M') & (df.Sport == 'Tennis')].Height.describe()\n",
    "mean = stat_values[\"mean\"]\n",
    "std = stat_values[\"std\"]\n",
    "print('The height of male tennis players is %.2f cm on average with a standard deviation of %.2f cm.' % (mean,std))"
   ]
  },
  {
   "cell_type": "markdown",
   "metadata": {
    "colab_type": "text",
    "id": "PgJf48N0QBLY"
   },
   "source": [
    "Q3. Please find the heaviest athlete among 2012 Olympics participants. What sport did he or she do?"
   ]
  },
  {
   "cell_type": "code",
   "execution_count": 6,
   "metadata": {},
   "outputs": [
    {
     "name": "stdout",
     "output_type": "stream",
     "text": [
      "The attributes of the heaviest athlete of the 2012 Olympics can be seen below!\n"
     ]
    }
   ],
   "source": [
    "print('The attributes of the heaviest athlete of the 2012 Olympics can be seen below!')"
   ]
  },
  {
   "cell_type": "code",
   "execution_count": 7,
   "metadata": {},
   "outputs": [
    {
     "data": {
      "text/plain": [
       "ID                         12177\n",
       "Name           Ricardo Blas, Jr.\n",
       "Sex                            M\n",
       "Age                           25\n",
       "Height                       183\n",
       "Weight                       214\n",
       "Team                        Guam\n",
       "NOC                          GUM\n",
       "Games                2012 Summer\n",
       "Year                        2012\n",
       "Season                    Summer\n",
       "City                      London\n",
       "Sport                       Judo\n",
       "Event     Judo Men's Heavyweight\n",
       "Medal                        NaN\n",
       "Name: 23156, dtype: object"
      ]
     },
     "execution_count": 7,
     "metadata": {},
     "output_type": "execute_result"
    }
   ],
   "source": [
    "heaviest_athlete = df.loc[df[df.Year == 2012].Weight.idxmax(),:]\n",
    "heaviest_athlete"
   ]
  },
  {
   "cell_type": "code",
   "execution_count": 8,
   "metadata": {},
   "outputs": [
    {
     "name": "stdout",
     "output_type": "stream",
     "text": [
      "As we can see he did Judo and weighted 214 kg at this time\n"
     ]
    }
   ],
   "source": [
    "  print(\"As we can see he did %s and weighted %i kg at this time\" %(heaviest_athlete['Sport'], heaviest_athlete['Weight']))"
   ]
  },
  {
   "cell_type": "markdown",
   "metadata": {
    "colab_type": "text",
    "id": "Zehd3vlQQdTd"
   },
   "source": [
    "Q4. How many times did `Heikki Ilmari Savolainen`  participate in the Olympics held in different years?\n"
   ]
  },
  {
   "cell_type": "code",
   "execution_count": 9,
   "metadata": {},
   "outputs": [
    {
     "name": "stdout",
     "output_type": "stream",
     "text": [
      "Heikki Ilmari Savolainen participated in 5 different Olympics.\n"
     ]
    }
   ],
   "source": [
    "print('Heikki Ilmari Savolainen participated in %i different Olympics.' %df[df.Name == \"Heikki Ilmari Savolainen\"].Year.nunique())"
   ]
  },
  {
   "cell_type": "markdown",
   "metadata": {
    "colab_type": "text",
    "id": "TylyFTXBRP6j"
   },
   "source": [
    "Q5. How many gold medals in tennis did the SWITZERLAND team win at the 2008 Olympics?"
   ]
  },
  {
   "cell_type": "code",
   "execution_count": 10,
   "metadata": {},
   "outputs": [
    {
     "name": "stdout",
     "output_type": "stream",
     "text": [
      "Switzerland won 2 medals in Tennis in the Olympic games 2008.\n"
     ]
    }
   ],
   "source": [
    "print(\"Switzerland won\", df[(df.Team == 'Switzerland') & (df.Medal == 'Gold') & (df.Year == 2008) & (df.Sport == 'Tennis')].shape[0], 'medals in Tennis in the Olympic games 2008.')"
   ]
  },
  {
   "cell_type": "markdown",
   "metadata": {
    "colab_type": "text",
    "id": "6OEHKnCsQXTk"
   },
   "source": [
    "Q6. Is it true that Italy won fewer medals than Portugal at the 2016 Olympics? "
   ]
  },
  {
   "cell_type": "code",
   "execution_count": 11,
   "metadata": {},
   "outputs": [
    {
     "name": "stdout",
     "output_type": "stream",
     "text": [
      "Portugal won 1 medals, whereas italy won 70 medals. Therefore this statement is  False !\n"
     ]
    },
    {
     "name": "stderr",
     "output_type": "stream",
     "text": [
      "/home/wiebke/.local/lib/python3.6/site-packages/ipykernel_launcher.py:2: UserWarning: Boolean Series key will be reindexed to match DataFrame index.\n",
      "  \n",
      "/home/wiebke/.local/lib/python3.6/site-packages/ipykernel_launcher.py:3: UserWarning: Boolean Series key will be reindexed to match DataFrame index.\n",
      "  This is separate from the ipykernel package so we can avoid doing imports until\n"
     ]
    }
   ],
   "source": [
    "wm = df[(df.Medal == 'Gold') | (df.Medal == 'Silver') | (df.Medal == 'Bronze')] # wm means won medal\n",
    "italy_medals =    wm[(df.Year == 2016) & (df.Team == 'Italy')].shape[0]\n",
    "portugal_medals = wm[(df.Year == 2016) & (df.Team == 'Portugal')].shape[0]\n",
    "print(\"Portugal won\", portugal_medals,'medals, whereas italy won', italy_medals,'medals. Therefore this statement is ', italy_medals < portugal_medals,'!')"
   ]
  },
  {
   "cell_type": "markdown",
   "metadata": {
    "colab_type": "text",
    "id": "qhgv9n8mRp7i"
   },
   "source": [
    "Q7. What are the most and least common age groups among the participants of the 2008 Olympics? \n",
    "Please use these age groups: \n",
    "```young  = (10, 35), middle-aged = (36, 55), old = (from 56, ...)```"
   ]
  },
  {
   "cell_type": "code",
   "execution_count": 12,
   "metadata": {},
   "outputs": [
    {
     "data": {
      "text/plain": [
       "[['young', 12873], ['middle-aged', 714], ['old', 13]]"
      ]
     },
     "execution_count": 12,
     "metadata": {},
     "output_type": "execute_result"
    }
   ],
   "source": [
    "age_groups = [[],[],[]]\n",
    "age_groups[2] = ['old', df[(df.Year == 2008) & (df.Age >= 56.0)].shape[0]]\n",
    "age_groups[0] = ['young', df[(df.Year == 2008) & (df.Age <= 35.0)].shape[0]]\n",
    "age_groups[1] = ['middle-aged', df[(df.Year == 2008) & (df.Age >= 36.0) & (df.Age <= 55.0)].shape[0]]\n",
    "age_groups"
   ]
  },
  {
   "cell_type": "code",
   "execution_count": 13,
   "metadata": {},
   "outputs": [
    {
     "name": "stdout",
     "output_type": "stream",
     "text": [
      "Most common age group: young\n",
      "Least common age group: old\n"
     ]
    }
   ],
   "source": [
    "print('Most common age group:', max(age_groups, key=lambda arr: arr[1])[0])\n",
    "print('Least common age group:',min(age_groups, key=lambda arr: arr[1])[0])"
   ]
  },
  {
   "cell_type": "markdown",
   "metadata": {
    "colab_type": "text",
    "id": "OFlUPdA4RXI0"
   },
   "source": [
    "Q8. Task. Please replace NaNs for two features: `Height, Weight`. Please explain your strategy."
   ]
  },
  {
   "cell_type": "code",
   "execution_count": 22,
   "metadata": {},
   "outputs": [
    {
     "name": "stdout",
     "output_type": "stream",
     "text": [
      "Is any value of Height or Weight still NaN? False\n",
      "All NaNs were replaced by the mean value for the specific column.\n"
     ]
    }
   ],
   "source": [
    "stats = df.describe()\n",
    "rplc_hght = stats.Height[\"mean\"]\n",
    "rplc_wght = stats.Weight[\"mean\"]\n",
    "df.Height = df.Height.fillna(rplc_hght)\n",
    "df.Weight = df.Weight.fillna(rplc_wght)\n",
    "\n",
    "print('Is any value of Height or Weight still NaN? {}'.format(df.Weight.isnull().values.any() | df.Height.isnull().values.any()))\n",
    "print('All NaNs were replaced by the mean value for the specific column.')"
   ]
  },
  {
   "cell_type": "markdown",
   "metadata": {
    "colab_type": "text",
    "id": "Fc9cwWx-5-ou"
   },
   "source": [
    "Q9. Please indicate categorical features in a data set. Store feature names in a list. \n",
    "How many categorical features did you find? "
   ]
  },
  {
   "cell_type": "code",
   "execution_count": 15,
   "metadata": {},
   "outputs": [],
   "source": [
    "def is_string(column):\n",
    "    # at least one string rest may be NA\n",
    "    at_least_one_string = False\n",
    "    for entry in column:\n",
    "        if type(entry) is str:\n",
    "             at_least_one_string = True\n",
    "        elif np.isnan(entry): continue\n",
    "        else: return False\n",
    "    if at_least_one_string: return True\n",
    "    else: return False\n",
    "    \n",
    "def is_boolean(column):\n",
    "    # at least one string rest may be NA\n",
    "    at_least_one_bool = False\n",
    "    for entry in column:\n",
    "        if type(entry) is bool: \n",
    "            at_least_one_bool = True\n",
    "        else: return False\n",
    "    if at_least_one_string: return True\n",
    "    else: return False\n",
    "\n",
    "def isnumber_single_value(a):\n",
    "    if type(a) is complex or type(a) is int or type(a) is float:\n",
    "        return True\n",
    "    else: return False\n",
    "\n",
    "def is_a_number(column):\n",
    "    # at least one string rest may be NA\n",
    "    at_least_one_number = False\n",
    "    for entry in column:\n",
    "        if isnumber_single_value(entry): \n",
    "            at_least_one_number = True\n",
    "        else: return False\n",
    "    if at_least_one_string: return True\n",
    "    else: return False"
   ]
  },
  {
   "cell_type": "code",
   "execution_count": 16,
   "metadata": {},
   "outputs": [
    {
     "name": "stdout",
     "output_type": "stream",
     "text": [
      "The following are categorical features\n",
      "['Name', 'Sex', 'Team', 'NOC', 'Games', 'Season', 'City', 'Sport', 'Event', 'Medal']\n",
      "We found 15 categorical features\n"
     ]
    }
   ],
   "source": [
    "cols = df.columns\n",
    "categorical_feature = []\n",
    "for i,col in enumerate(cols):\n",
    "    if is_string(df[col]): categorical_feature.append(True)\n",
    "    elif is_boolean(df[col]): categorical_feature.append(True)\n",
    "#    elif is_int(col): \n",
    "#        if has_more_than_4_different_values(col): \n",
    "#            categorical_feature.append(False)\n",
    "#        else:\n",
    "#            categorical_feature.append(True)\n",
    "    elif is_a_number(col): categorical_feature.append(False)\n",
    "    else: categorical_feature.append(False)\n",
    "#print(cols)\n",
    "#print(categorical_feature)\n",
    "categorical_features_list = list(cols[categorical_feature])\n",
    "print(\"The following are categorical features\")\n",
    "print(categorical_features_list)\n",
    "print(\"We found %i categorical features\"% len(cols))"
   ]
  },
  {
   "cell_type": "markdown",
   "metadata": {},
   "source": [
    "# Additional Notes:\n",
    "The task to write a program to categorize features into categorical and not categorical features is far from trivial and much more easier done by human. \n",
    "The above routine looks at the datatypes of the data samples of the respective features. It allocates boolean and string datatypes to categorical features and allocates numerical datatypes (int, float, complex) as not categorical features. This can be troublesome and is far from error free. \n",
    "For example one feature of the data could categorize them into 50 different classes stored in the dataset as an integer. This algorithms would categorize this feature falsely to not categorical!"
   ]
  }
 ],
 "metadata": {
  "colab": {
   "collapsed_sections": [],
   "name": "Homework_2_[lastname]_[firstname]_[matrikelnr].ipynb",
   "provenance": []
  },
  "kernelspec": {
   "display_name": "Python 3",
   "language": "python",
   "name": "python3"
  },
  "language_info": {
   "codemirror_mode": {
    "name": "ipython",
    "version": 3
   },
   "file_extension": ".py",
   "mimetype": "text/x-python",
   "name": "python",
   "nbconvert_exporter": "python",
   "pygments_lexer": "ipython3",
   "version": "3.6.8"
  }
 },
 "nbformat": 4,
 "nbformat_minor": 1
}
