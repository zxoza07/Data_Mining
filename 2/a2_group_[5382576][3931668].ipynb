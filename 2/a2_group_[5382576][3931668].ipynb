{
 "cells": [
  {
   "cell_type": "markdown",
   "metadata": {},
   "source": [
    "# Assignment done by:\n",
    "\n",
    "# Jakob Peschel  (5382576)\n",
    "# Wiebke Ringels (3931668)"
   ]
  },
  {
   "cell_type": "markdown",
   "metadata": {
    "colab_type": "text",
    "id": "tSS-ZXGkNI9j"
   },
   "source": [
    "## Data Mining and Probabilistic Reasoning, WS19/20\n",
    "Dr. Gjergji Kasneci, The University of Tübingen\n",
    "\n",
    "# Homework 2\n",
    "----"
   ]
  },
  {
   "cell_type": "markdown",
   "metadata": {
    "colab_type": "text",
    "id": "X9DOCni6MhtU"
   },
   "source": [
    "\n",
    "Note: Please add your solution to the homework in this Jupyter Notebook and upload it to Ilias until 03.12.19, 09:00 o'clock. Make sure you use the following naming convention: a2_[lastname]_[firstname]_[matrikelnr].ipynb\n",
    "If you want to work as a group, please use the following naming convention: a2_group_[matrikelnr1]_[matrikelnr2]_[...].ipynb. Also list your group members here, for example:\n",
    "- John Snow, student ID,\n",
    "- Ygritte, student ID,\n",
    "- ... \n",
    "\n",
    "\n",
    "----\n",
    "**Your task is to:**\n",
    "Given a data set aswer to questions below using **code**, for example: \n",
    "```\n",
    "#Q1 How old was the youngest athlete in Olympic games based on the provided dataset?\n",
    "print(df.Age.min())\n",
    "> 10 \n",
    "```\n",
    "and yes this is true: \n",
    "\n",
    "`According to Olympic figures, Greek gymnast Dimitrios Loundras is the youngest known medalist. When Loundras finished third in the team parallels bars at the 1896 Olympic Games, he was 10 years and 218 days old.`\n",
    "\n",
    "\n",
    "------\n",
    "\n",
    "\n",
    "## In order to pass the HW, you need to answer correctly: **5 questions.**\n",
    "\n"
   ]
  },
  {
   "cell_type": "markdown",
   "metadata": {
    "colab_type": "text",
    "id": "UQSybNnW5bO2"
   },
   "source": [
    "Vadim (vadim.borisov@uni-tuebingen.de)"
   ]
  },
  {
   "cell_type": "code",
   "execution_count": null,
   "metadata": {
    "colab": {},
    "colab_type": "code",
    "id": "hnpIJKyX5osG"
   },
   "outputs": [],
   "source": []
  },
  {
   "cell_type": "code",
   "execution_count": null,
   "metadata": {
    "colab": {},
    "colab_type": "code",
    "id": "wR4jrveO5o0K"
   },
   "outputs": [],
   "source": []
  },
  {
   "cell_type": "code",
   "execution_count": 1,
   "metadata": {
    "colab": {},
    "colab_type": "code",
    "id": "rpoEXObLNGxK"
   },
   "outputs": [],
   "source": [
    "# load modules\n",
    "import pandas as pd\n",
    "import numpy as np"
   ]
  },
  {
   "cell_type": "code",
   "execution_count": 2,
   "metadata": {
    "colab": {},
    "colab_type": "code",
    "id": "JILbGXrZOZwJ"
   },
   "outputs": [],
   "source": [
    "# data frame \n",
    "link_to_data = 'https://www.dropbox.com/s/16ydeynisr0ngh9/athlete_events.csv?dl=1'\n",
    "df = pd.read_csv(link_to_data)"
   ]
  },
  {
   "cell_type": "code",
   "execution_count": 3,
   "metadata": {
    "colab": {
     "base_uri": "https://localhost:8080/",
     "height": 204
    },
    "colab_type": "code",
    "id": "cuvOdrs3OhVM",
    "outputId": "34ffdf39-2653-42b0-ab8d-af68862c3cf7"
   },
   "outputs": [
    {
     "data": {
      "text/html": [
       "<div>\n",
       "<style scoped>\n",
       "    .dataframe tbody tr th:only-of-type {\n",
       "        vertical-align: middle;\n",
       "    }\n",
       "\n",
       "    .dataframe tbody tr th {\n",
       "        vertical-align: top;\n",
       "    }\n",
       "\n",
       "    .dataframe thead th {\n",
       "        text-align: right;\n",
       "    }\n",
       "</style>\n",
       "<table border=\"1\" class=\"dataframe\">\n",
       "  <thead>\n",
       "    <tr style=\"text-align: right;\">\n",
       "      <th></th>\n",
       "      <th>ID</th>\n",
       "      <th>Name</th>\n",
       "      <th>Sex</th>\n",
       "      <th>Age</th>\n",
       "      <th>Height</th>\n",
       "      <th>Weight</th>\n",
       "      <th>Team</th>\n",
       "      <th>NOC</th>\n",
       "      <th>Games</th>\n",
       "      <th>Year</th>\n",
       "      <th>Season</th>\n",
       "      <th>City</th>\n",
       "      <th>Sport</th>\n",
       "      <th>Event</th>\n",
       "      <th>Medal</th>\n",
       "    </tr>\n",
       "  </thead>\n",
       "  <tbody>\n",
       "    <tr>\n",
       "      <th>0</th>\n",
       "      <td>1</td>\n",
       "      <td>A Dijiang</td>\n",
       "      <td>M</td>\n",
       "      <td>24.0</td>\n",
       "      <td>180.0</td>\n",
       "      <td>80.0</td>\n",
       "      <td>China</td>\n",
       "      <td>CHN</td>\n",
       "      <td>1992 Summer</td>\n",
       "      <td>1992</td>\n",
       "      <td>Summer</td>\n",
       "      <td>Barcelona</td>\n",
       "      <td>Basketball</td>\n",
       "      <td>Basketball Men's Basketball</td>\n",
       "      <td>NaN</td>\n",
       "    </tr>\n",
       "    <tr>\n",
       "      <th>1</th>\n",
       "      <td>2</td>\n",
       "      <td>A Lamusi</td>\n",
       "      <td>M</td>\n",
       "      <td>23.0</td>\n",
       "      <td>170.0</td>\n",
       "      <td>60.0</td>\n",
       "      <td>China</td>\n",
       "      <td>CHN</td>\n",
       "      <td>2012 Summer</td>\n",
       "      <td>2012</td>\n",
       "      <td>Summer</td>\n",
       "      <td>London</td>\n",
       "      <td>Judo</td>\n",
       "      <td>Judo Men's Extra-Lightweight</td>\n",
       "      <td>NaN</td>\n",
       "    </tr>\n",
       "    <tr>\n",
       "      <th>2</th>\n",
       "      <td>3</td>\n",
       "      <td>Gunnar Nielsen Aaby</td>\n",
       "      <td>M</td>\n",
       "      <td>24.0</td>\n",
       "      <td>NaN</td>\n",
       "      <td>NaN</td>\n",
       "      <td>Denmark</td>\n",
       "      <td>DEN</td>\n",
       "      <td>1920 Summer</td>\n",
       "      <td>1920</td>\n",
       "      <td>Summer</td>\n",
       "      <td>Antwerpen</td>\n",
       "      <td>Football</td>\n",
       "      <td>Football Men's Football</td>\n",
       "      <td>NaN</td>\n",
       "    </tr>\n",
       "    <tr>\n",
       "      <th>3</th>\n",
       "      <td>4</td>\n",
       "      <td>Edgar Lindenau Aabye</td>\n",
       "      <td>M</td>\n",
       "      <td>34.0</td>\n",
       "      <td>NaN</td>\n",
       "      <td>NaN</td>\n",
       "      <td>Denmark/Sweden</td>\n",
       "      <td>DEN</td>\n",
       "      <td>1900 Summer</td>\n",
       "      <td>1900</td>\n",
       "      <td>Summer</td>\n",
       "      <td>Paris</td>\n",
       "      <td>Tug-Of-War</td>\n",
       "      <td>Tug-Of-War Men's Tug-Of-War</td>\n",
       "      <td>Gold</td>\n",
       "    </tr>\n",
       "    <tr>\n",
       "      <th>4</th>\n",
       "      <td>5</td>\n",
       "      <td>Christine Jacoba Aaftink</td>\n",
       "      <td>F</td>\n",
       "      <td>21.0</td>\n",
       "      <td>185.0</td>\n",
       "      <td>82.0</td>\n",
       "      <td>Netherlands</td>\n",
       "      <td>NED</td>\n",
       "      <td>1988 Winter</td>\n",
       "      <td>1988</td>\n",
       "      <td>Winter</td>\n",
       "      <td>Calgary</td>\n",
       "      <td>Speed Skating</td>\n",
       "      <td>Speed Skating Women's 500 metres</td>\n",
       "      <td>NaN</td>\n",
       "    </tr>\n",
       "  </tbody>\n",
       "</table>\n",
       "</div>"
      ],
      "text/plain": [
       "   ID                      Name Sex   Age  Height  Weight            Team  \\\n",
       "0   1                 A Dijiang   M  24.0   180.0    80.0           China   \n",
       "1   2                  A Lamusi   M  23.0   170.0    60.0           China   \n",
       "2   3       Gunnar Nielsen Aaby   M  24.0     NaN     NaN         Denmark   \n",
       "3   4      Edgar Lindenau Aabye   M  34.0     NaN     NaN  Denmark/Sweden   \n",
       "4   5  Christine Jacoba Aaftink   F  21.0   185.0    82.0     Netherlands   \n",
       "\n",
       "   NOC        Games  Year  Season       City          Sport  \\\n",
       "0  CHN  1992 Summer  1992  Summer  Barcelona     Basketball   \n",
       "1  CHN  2012 Summer  2012  Summer     London           Judo   \n",
       "2  DEN  1920 Summer  1920  Summer  Antwerpen       Football   \n",
       "3  DEN  1900 Summer  1900  Summer      Paris     Tug-Of-War   \n",
       "4  NED  1988 Winter  1988  Winter    Calgary  Speed Skating   \n",
       "\n",
       "                              Event Medal  \n",
       "0       Basketball Men's Basketball   NaN  \n",
       "1      Judo Men's Extra-Lightweight   NaN  \n",
       "2           Football Men's Football   NaN  \n",
       "3       Tug-Of-War Men's Tug-Of-War  Gold  \n",
       "4  Speed Skating Women's 500 metres   NaN  "
      ]
     },
     "execution_count": 3,
     "metadata": {},
     "output_type": "execute_result"
    }
   ],
   "source": [
    "df.head()"
   ]
  },
  {
   "cell_type": "code",
   "execution_count": null,
   "metadata": {
    "colab": {},
    "colab_type": "code",
    "id": "hWJEr0i47JLI"
   },
   "outputs": [],
   "source": []
  },
  {
   "cell_type": "markdown",
   "metadata": {
    "colab_type": "text",
    "id": "e4Eu1ZHBPNci"
   },
   "source": [
    "Q1. How old were the youngest male and female participants of the Olympic Game in 2012? "
   ]
  },
  {
   "cell_type": "code",
   "execution_count": 13,
   "metadata": {},
   "outputs": [
    {
     "name": "stdout",
     "output_type": "stream",
     "text": [
      "The youngest male participant was 10.0 years old\n",
      "The youngest female participant was 11.0 years old\n"
     ]
    }
   ],
   "source": [
    "print('The youngest male participant was', df[df.Sex == 'M'].Age.min(),'years old.')\n",
    "print('The youngest female participant was', df[df.Sex == 'F'].Age.min(),'years old.')"
   ]
  },
  {
   "cell_type": "markdown",
   "metadata": {
    "colab_type": "text",
    "id": "5tm3LKyAP0Lu"
   },
   "source": [
    "Q2. What are the mean and standart deviation of height for male tennis playes? Round your answer to the first two decimal. "
   ]
  },
  {
   "cell_type": "code",
   "execution_count": 103,
   "metadata": {
    "colab": {},
    "colab_type": "code",
    "id": "qWfK02vHQAPh"
   },
   "outputs": [
    {
     "data": {
      "text/html": [
       "<div>\n",
       "<style scoped>\n",
       "    .dataframe tbody tr th:only-of-type {\n",
       "        vertical-align: middle;\n",
       "    }\n",
       "\n",
       "    .dataframe tbody tr th {\n",
       "        vertical-align: top;\n",
       "    }\n",
       "\n",
       "    .dataframe thead th {\n",
       "        text-align: right;\n",
       "    }\n",
       "</style>\n",
       "<table border=\"1\" class=\"dataframe\">\n",
       "  <thead>\n",
       "    <tr style=\"text-align: right;\">\n",
       "      <th></th>\n",
       "      <th>ID</th>\n",
       "      <th>Name</th>\n",
       "      <th>Sex</th>\n",
       "      <th>Age</th>\n",
       "      <th>Height</th>\n",
       "      <th>Weight</th>\n",
       "      <th>Team</th>\n",
       "      <th>NOC</th>\n",
       "      <th>Games</th>\n",
       "      <th>Year</th>\n",
       "      <th>Season</th>\n",
       "      <th>City</th>\n",
       "      <th>Sport</th>\n",
       "      <th>Event</th>\n",
       "      <th>Medal</th>\n",
       "    </tr>\n",
       "  </thead>\n",
       "  <tbody>\n",
       "    <tr>\n",
       "      <th>184</th>\n",
       "      <td>82</td>\n",
       "      <td>Enrique Abaroa Martnez</td>\n",
       "      <td>M</td>\n",
       "      <td>26.0</td>\n",
       "      <td>183.0</td>\n",
       "      <td>75.0</td>\n",
       "      <td>Mexico</td>\n",
       "      <td>MEX</td>\n",
       "      <td>2000 Summer</td>\n",
       "      <td>2000</td>\n",
       "      <td>Summer</td>\n",
       "      <td>Sydney</td>\n",
       "      <td>Tennis</td>\n",
       "      <td>Tennis Men's Doubles</td>\n",
       "      <td>NaN</td>\n",
       "    </tr>\n",
       "    <tr>\n",
       "      <th>582</th>\n",
       "      <td>334</td>\n",
       "      <td>Abubakar Sadiq Abdullahi</td>\n",
       "      <td>M</td>\n",
       "      <td>28.0</td>\n",
       "      <td>NaN</td>\n",
       "      <td>NaN</td>\n",
       "      <td>Nigeria</td>\n",
       "      <td>NGR</td>\n",
       "      <td>1988 Summer</td>\n",
       "      <td>1988</td>\n",
       "      <td>Summer</td>\n",
       "      <td>Seoul</td>\n",
       "      <td>Tennis</td>\n",
       "      <td>Tennis Men's Singles</td>\n",
       "      <td>NaN</td>\n",
       "    </tr>\n",
       "    <tr>\n",
       "      <th>1235</th>\n",
       "      <td>695</td>\n",
       "      <td>Ricardo Augusto Amaral Acioly</td>\n",
       "      <td>M</td>\n",
       "      <td>24.0</td>\n",
       "      <td>179.0</td>\n",
       "      <td>78.0</td>\n",
       "      <td>Brazil</td>\n",
       "      <td>BRA</td>\n",
       "      <td>1988 Summer</td>\n",
       "      <td>1988</td>\n",
       "      <td>Summer</td>\n",
       "      <td>Seoul</td>\n",
       "      <td>Tennis</td>\n",
       "      <td>Tennis Men's Doubles</td>\n",
       "      <td>NaN</td>\n",
       "    </tr>\n",
       "    <tr>\n",
       "      <th>1457</th>\n",
       "      <td>812</td>\n",
       "      <td>David Dixie Adams</td>\n",
       "      <td>M</td>\n",
       "      <td>30.0</td>\n",
       "      <td>188.0</td>\n",
       "      <td>79.0</td>\n",
       "      <td>South Africa</td>\n",
       "      <td>RSA</td>\n",
       "      <td>2000 Summer</td>\n",
       "      <td>2000</td>\n",
       "      <td>Summer</td>\n",
       "      <td>Sydney</td>\n",
       "      <td>Tennis</td>\n",
       "      <td>Tennis Men's Doubles</td>\n",
       "      <td>NaN</td>\n",
       "    </tr>\n",
       "    <tr>\n",
       "      <th>1924</th>\n",
       "      <td>1061</td>\n",
       "      <td>Frdric Charles Aeschlimann</td>\n",
       "      <td>M</td>\n",
       "      <td>27.0</td>\n",
       "      <td>NaN</td>\n",
       "      <td>NaN</td>\n",
       "      <td>Switzerland</td>\n",
       "      <td>SUI</td>\n",
       "      <td>1924 Summer</td>\n",
       "      <td>1924</td>\n",
       "      <td>Summer</td>\n",
       "      <td>Paris</td>\n",
       "      <td>Tennis</td>\n",
       "      <td>Tennis Men's Singles</td>\n",
       "      <td>NaN</td>\n",
       "    </tr>\n",
       "    <tr>\n",
       "      <th>...</th>\n",
       "      <td>...</td>\n",
       "      <td>...</td>\n",
       "      <td>...</td>\n",
       "      <td>...</td>\n",
       "      <td>...</td>\n",
       "      <td>...</td>\n",
       "      <td>...</td>\n",
       "      <td>...</td>\n",
       "      <td>...</td>\n",
       "      <td>...</td>\n",
       "      <td>...</td>\n",
       "      <td>...</td>\n",
       "      <td>...</td>\n",
       "      <td>...</td>\n",
       "      <td>...</td>\n",
       "    </tr>\n",
       "    <tr>\n",
       "      <th>269913</th>\n",
       "      <td>135043</td>\n",
       "      <td>Nenad Zimonji</td>\n",
       "      <td>M</td>\n",
       "      <td>36.0</td>\n",
       "      <td>190.0</td>\n",
       "      <td>92.0</td>\n",
       "      <td>Serbia</td>\n",
       "      <td>SRB</td>\n",
       "      <td>2012 Summer</td>\n",
       "      <td>2012</td>\n",
       "      <td>Summer</td>\n",
       "      <td>London</td>\n",
       "      <td>Tennis</td>\n",
       "      <td>Tennis Mixed Doubles</td>\n",
       "      <td>NaN</td>\n",
       "    </tr>\n",
       "    <tr>\n",
       "      <th>269914</th>\n",
       "      <td>135043</td>\n",
       "      <td>Nenad Zimonji</td>\n",
       "      <td>M</td>\n",
       "      <td>36.0</td>\n",
       "      <td>190.0</td>\n",
       "      <td>92.0</td>\n",
       "      <td>Serbia-1</td>\n",
       "      <td>SRB</td>\n",
       "      <td>2012 Summer</td>\n",
       "      <td>2012</td>\n",
       "      <td>Summer</td>\n",
       "      <td>London</td>\n",
       "      <td>Tennis</td>\n",
       "      <td>Tennis Men's Doubles</td>\n",
       "      <td>NaN</td>\n",
       "    </tr>\n",
       "    <tr>\n",
       "      <th>269915</th>\n",
       "      <td>135043</td>\n",
       "      <td>Nenad Zimonji</td>\n",
       "      <td>M</td>\n",
       "      <td>40.0</td>\n",
       "      <td>190.0</td>\n",
       "      <td>92.0</td>\n",
       "      <td>Serbia</td>\n",
       "      <td>SRB</td>\n",
       "      <td>2016 Summer</td>\n",
       "      <td>2016</td>\n",
       "      <td>Summer</td>\n",
       "      <td>Rio de Janeiro</td>\n",
       "      <td>Tennis</td>\n",
       "      <td>Tennis Men's Doubles</td>\n",
       "      <td>NaN</td>\n",
       "    </tr>\n",
       "    <tr>\n",
       "      <th>270115</th>\n",
       "      <td>135135</td>\n",
       "      <td>Slobodan ivojinovi</td>\n",
       "      <td>M</td>\n",
       "      <td>25.0</td>\n",
       "      <td>198.0</td>\n",
       "      <td>96.0</td>\n",
       "      <td>Yugoslavia</td>\n",
       "      <td>YUG</td>\n",
       "      <td>1988 Summer</td>\n",
       "      <td>1988</td>\n",
       "      <td>Summer</td>\n",
       "      <td>Seoul</td>\n",
       "      <td>Tennis</td>\n",
       "      <td>Tennis Men's Singles</td>\n",
       "      <td>NaN</td>\n",
       "    </tr>\n",
       "    <tr>\n",
       "      <th>270116</th>\n",
       "      <td>135135</td>\n",
       "      <td>Slobodan ivojinovi</td>\n",
       "      <td>M</td>\n",
       "      <td>25.0</td>\n",
       "      <td>198.0</td>\n",
       "      <td>96.0</td>\n",
       "      <td>Yugoslavia</td>\n",
       "      <td>YUG</td>\n",
       "      <td>1988 Summer</td>\n",
       "      <td>1988</td>\n",
       "      <td>Summer</td>\n",
       "      <td>Seoul</td>\n",
       "      <td>Tennis</td>\n",
       "      <td>Tennis Men's Doubles</td>\n",
       "      <td>NaN</td>\n",
       "    </tr>\n",
       "  </tbody>\n",
       "</table>\n",
       "<p>1684 rows × 15 columns</p>\n",
       "</div>"
      ],
      "text/plain": [
       "            ID                           Name Sex   Age  Height  Weight  \\\n",
       "184         82         Enrique Abaroa Martnez   M  26.0   183.0    75.0   \n",
       "582        334       Abubakar Sadiq Abdullahi   M  28.0     NaN     NaN   \n",
       "1235       695  Ricardo Augusto Amaral Acioly   M  24.0   179.0    78.0   \n",
       "1457       812              David Dixie Adams   M  30.0   188.0    79.0   \n",
       "1924      1061     Frdric Charles Aeschlimann   M  27.0     NaN     NaN   \n",
       "...        ...                            ...  ..   ...     ...     ...   \n",
       "269913  135043                  Nenad Zimonji   M  36.0   190.0    92.0   \n",
       "269914  135043                  Nenad Zimonji   M  36.0   190.0    92.0   \n",
       "269915  135043                  Nenad Zimonji   M  40.0   190.0    92.0   \n",
       "270115  135135             Slobodan ivojinovi   M  25.0   198.0    96.0   \n",
       "270116  135135             Slobodan ivojinovi   M  25.0   198.0    96.0   \n",
       "\n",
       "                Team  NOC        Games  Year  Season            City   Sport  \\\n",
       "184           Mexico  MEX  2000 Summer  2000  Summer          Sydney  Tennis   \n",
       "582          Nigeria  NGR  1988 Summer  1988  Summer           Seoul  Tennis   \n",
       "1235          Brazil  BRA  1988 Summer  1988  Summer           Seoul  Tennis   \n",
       "1457    South Africa  RSA  2000 Summer  2000  Summer          Sydney  Tennis   \n",
       "1924     Switzerland  SUI  1924 Summer  1924  Summer           Paris  Tennis   \n",
       "...              ...  ...          ...   ...     ...             ...     ...   \n",
       "269913        Serbia  SRB  2012 Summer  2012  Summer          London  Tennis   \n",
       "269914      Serbia-1  SRB  2012 Summer  2012  Summer          London  Tennis   \n",
       "269915        Serbia  SRB  2016 Summer  2016  Summer  Rio de Janeiro  Tennis   \n",
       "270115    Yugoslavia  YUG  1988 Summer  1988  Summer           Seoul  Tennis   \n",
       "270116    Yugoslavia  YUG  1988 Summer  1988  Summer           Seoul  Tennis   \n",
       "\n",
       "                       Event Medal  \n",
       "184     Tennis Men's Doubles   NaN  \n",
       "582     Tennis Men's Singles   NaN  \n",
       "1235    Tennis Men's Doubles   NaN  \n",
       "1457    Tennis Men's Doubles   NaN  \n",
       "1924    Tennis Men's Singles   NaN  \n",
       "...                      ...   ...  \n",
       "269913  Tennis Mixed Doubles   NaN  \n",
       "269914  Tennis Men's Doubles   NaN  \n",
       "269915  Tennis Men's Doubles   NaN  \n",
       "270115  Tennis Men's Singles   NaN  \n",
       "270116  Tennis Men's Doubles   NaN  \n",
       "\n",
       "[1684 rows x 15 columns]"
      ]
     },
     "execution_count": 103,
     "metadata": {},
     "output_type": "execute_result"
    }
   ],
   "source": [
    "df[(df.Sex == 'M')& (df.Sport == 'Tennis')]"
   ]
  },
  {
   "cell_type": "code",
   "execution_count": 45,
   "metadata": {},
   "outputs": [
    {
     "name": "stdout",
     "output_type": "stream",
     "text": [
      "The height of male tennis players is 184.85 cm on average with a standard deviation of 6.73 cm.\n"
     ]
    }
   ],
   "source": [
    "stat_values = df[(df.Sex == 'M')& (df.Sport == 'Tennis')].Height.describe()\n",
    "mean = stat_values[\"mean\"]\n",
    "std = stat_values[\"std\"]\n",
    "print('The height of male tennis players is %.2f cm on average with a standard deviation of %.2f cm.' % (mean,std))"
   ]
  },
  {
   "cell_type": "markdown",
   "metadata": {
    "colab_type": "text",
    "id": "PgJf48N0QBLY"
   },
   "source": [
    "Q3. Please find the heaviest athlete among 2012 Olympics participants. What sport did he or she do?"
   ]
  },
  {
   "cell_type": "code",
   "execution_count": null,
   "metadata": {},
   "outputs": [],
   "source": [
    "print('The attributes of the heaviest athlete of the 2012 Olympics can be seen below!')"
   ]
  },
  {
   "cell_type": "code",
   "execution_count": 65,
   "metadata": {},
   "outputs": [
    {
     "data": {
      "text/plain": [
       "ID                         12177\n",
       "Name           Ricardo Blas, Jr.\n",
       "Sex                            M\n",
       "Age                           25\n",
       "Height                       183\n",
       "Weight                       214\n",
       "Team                        Guam\n",
       "NOC                          GUM\n",
       "Games                2012 Summer\n",
       "Year                        2012\n",
       "Season                    Summer\n",
       "City                      London\n",
       "Sport                       Judo\n",
       "Event     Judo Men's Heavyweight\n",
       "Medal                        NaN\n",
       "Name: 23156, dtype: object"
      ]
     },
     "execution_count": 65,
     "metadata": {},
     "output_type": "execute_result"
    }
   ],
   "source": [
    "heaviest_athlete = df.loc[df[df.Year == 2012].Weight.idxmax(),:]\n",
    "heaviest_athlete"
   ]
  },
  {
   "cell_type": "code",
   "execution_count": 67,
   "metadata": {},
   "outputs": [
    {
     "name": "stdout",
     "output_type": "stream",
     "text": [
      "As we can see he did Judo and weighted 214 kg at this time\n"
     ]
    }
   ],
   "source": [
    "  print(\"As we can see he did %s and weighted %i kg at this time\" %(heaviest_athlete['Sport'], heaviest_athlete['Weight']))"
   ]
  },
  {
   "cell_type": "markdown",
   "metadata": {
    "colab_type": "text",
    "id": "Zehd3vlQQdTd"
   },
   "source": [
    "Q4. How many times did `Heikki Ilmari Savolainen`  participate in the Olympics held in different years?\n"
   ]
  },
  {
   "cell_type": "code",
   "execution_count": 74,
   "metadata": {},
   "outputs": [
    {
     "name": "stdout",
     "output_type": "stream",
     "text": [
      "Heikki Ilmari Savolainen participated in 5 different Olympics.\n"
     ]
    }
   ],
   "source": [
    "print('Heikki Ilmari Savolainen participated in %i different Olympics.' %df[df.Name == \"Heikki Ilmari Savolainen\"].Year.nunique())"
   ]
  },
  {
   "cell_type": "markdown",
   "metadata": {
    "colab_type": "text",
    "id": "TylyFTXBRP6j"
   },
   "source": [
    "Q5. How many gold medals in tennis did the SWITZERLAND team win at the 2008 Olympics?"
   ]
  },
  {
   "cell_type": "code",
   "execution_count": 87,
   "metadata": {
    "colab": {},
    "colab_type": "code",
    "id": "vKCK5FALRYF9"
   },
   "outputs": [
    {
     "data": {
      "text/html": [
       "<div>\n",
       "<style scoped>\n",
       "    .dataframe tbody tr th:only-of-type {\n",
       "        vertical-align: middle;\n",
       "    }\n",
       "\n",
       "    .dataframe tbody tr th {\n",
       "        vertical-align: top;\n",
       "    }\n",
       "\n",
       "    .dataframe thead th {\n",
       "        text-align: right;\n",
       "    }\n",
       "</style>\n",
       "<table border=\"1\" class=\"dataframe\">\n",
       "  <thead>\n",
       "    <tr style=\"text-align: right;\">\n",
       "      <th></th>\n",
       "      <th>ID</th>\n",
       "      <th>Name</th>\n",
       "      <th>Sex</th>\n",
       "      <th>Age</th>\n",
       "      <th>Height</th>\n",
       "      <th>Weight</th>\n",
       "      <th>Team</th>\n",
       "      <th>NOC</th>\n",
       "      <th>Games</th>\n",
       "      <th>Year</th>\n",
       "      <th>Season</th>\n",
       "      <th>City</th>\n",
       "      <th>Sport</th>\n",
       "      <th>Event</th>\n",
       "      <th>Medal</th>\n",
       "    </tr>\n",
       "  </thead>\n",
       "  <tbody>\n",
       "  </tbody>\n",
       "</table>\n",
       "</div>"
      ],
      "text/plain": [
       "Empty DataFrame\n",
       "Columns: [ID, Name, Sex, Age, Height, Weight, Team, NOC, Games, Year, Season, City, Sport, Event, Medal]\n",
       "Index: []"
      ]
     },
     "execution_count": 87,
     "metadata": {},
     "output_type": "execute_result"
    }
   ],
   "source": [
    "df[(df.Team == 'Switzerland') & (df.Medal == 'Gold') & df.Year == 2008]"
   ]
  },
  {
   "cell_type": "code",
   "execution_count": 90,
   "metadata": {},
   "outputs": [
    {
     "data": {
      "text/html": [
       "<div>\n",
       "<style scoped>\n",
       "    .dataframe tbody tr th:only-of-type {\n",
       "        vertical-align: middle;\n",
       "    }\n",
       "\n",
       "    .dataframe tbody tr th {\n",
       "        vertical-align: top;\n",
       "    }\n",
       "\n",
       "    .dataframe thead th {\n",
       "        text-align: right;\n",
       "    }\n",
       "</style>\n",
       "<table border=\"1\" class=\"dataframe\">\n",
       "  <thead>\n",
       "    <tr style=\"text-align: right;\">\n",
       "      <th></th>\n",
       "      <th>ID</th>\n",
       "      <th>Name</th>\n",
       "      <th>Sex</th>\n",
       "      <th>Age</th>\n",
       "      <th>Height</th>\n",
       "      <th>Weight</th>\n",
       "      <th>Team</th>\n",
       "      <th>NOC</th>\n",
       "      <th>Games</th>\n",
       "      <th>Year</th>\n",
       "      <th>Season</th>\n",
       "      <th>City</th>\n",
       "      <th>Sport</th>\n",
       "      <th>Event</th>\n",
       "      <th>Medal</th>\n",
       "    </tr>\n",
       "  </thead>\n",
       "  <tbody>\n",
       "  </tbody>\n",
       "</table>\n",
       "</div>"
      ],
      "text/plain": [
       "Empty DataFrame\n",
       "Columns: [ID, Name, Sex, Age, Height, Weight, Team, NOC, Games, Year, Season, City, Sport, Event, Medal]\n",
       "Index: []"
      ]
     },
     "execution_count": 90,
     "metadata": {},
     "output_type": "execute_result"
    }
   ],
   "source": [
    "df[(df.Team == 'Switzerland')  & df.Year == 2008]"
   ]
  },
  {
   "cell_type": "code",
   "execution_count": 101,
   "metadata": {},
   "outputs": [
    {
     "data": {
      "text/html": [
       "<div>\n",
       "<style scoped>\n",
       "    .dataframe tbody tr th:only-of-type {\n",
       "        vertical-align: middle;\n",
       "    }\n",
       "\n",
       "    .dataframe tbody tr th {\n",
       "        vertical-align: top;\n",
       "    }\n",
       "\n",
       "    .dataframe thead th {\n",
       "        text-align: right;\n",
       "    }\n",
       "</style>\n",
       "<table border=\"1\" class=\"dataframe\">\n",
       "  <thead>\n",
       "    <tr style=\"text-align: right;\">\n",
       "      <th></th>\n",
       "      <th>ID</th>\n",
       "      <th>Name</th>\n",
       "      <th>Sex</th>\n",
       "      <th>Age</th>\n",
       "      <th>Height</th>\n",
       "      <th>Weight</th>\n",
       "      <th>Team</th>\n",
       "      <th>NOC</th>\n",
       "      <th>Games</th>\n",
       "      <th>Year</th>\n",
       "      <th>Season</th>\n",
       "      <th>City</th>\n",
       "      <th>Sport</th>\n",
       "      <th>Event</th>\n",
       "      <th>Medal</th>\n",
       "    </tr>\n",
       "  </thead>\n",
       "  <tbody>\n",
       "  </tbody>\n",
       "</table>\n",
       "</div>"
      ],
      "text/plain": [
       "Empty DataFrame\n",
       "Columns: [ID, Name, Sex, Age, Height, Weight, Team, NOC, Games, Year, Season, City, Sport, Event, Medal]\n",
       "Index: []"
      ]
     },
     "execution_count": 101,
     "metadata": {},
     "output_type": "execute_result"
    }
   ],
   "source": [
    "df[(df.Team == 'Switzerland') & df.Year == 1956]"
   ]
  },
  {
   "cell_type": "code",
   "execution_count": 102,
   "metadata": {},
   "outputs": [
    {
     "data": {
      "text/html": [
       "<div>\n",
       "<style scoped>\n",
       "    .dataframe tbody tr th:only-of-type {\n",
       "        vertical-align: middle;\n",
       "    }\n",
       "\n",
       "    .dataframe tbody tr th {\n",
       "        vertical-align: top;\n",
       "    }\n",
       "\n",
       "    .dataframe thead th {\n",
       "        text-align: right;\n",
       "    }\n",
       "</style>\n",
       "<table border=\"1\" class=\"dataframe\">\n",
       "  <thead>\n",
       "    <tr style=\"text-align: right;\">\n",
       "      <th></th>\n",
       "      <th>ID</th>\n",
       "      <th>Name</th>\n",
       "      <th>Sex</th>\n",
       "      <th>Age</th>\n",
       "      <th>Height</th>\n",
       "      <th>Weight</th>\n",
       "      <th>Team</th>\n",
       "      <th>NOC</th>\n",
       "      <th>Games</th>\n",
       "      <th>Year</th>\n",
       "      <th>Season</th>\n",
       "      <th>City</th>\n",
       "      <th>Sport</th>\n",
       "      <th>Event</th>\n",
       "      <th>Medal</th>\n",
       "    </tr>\n",
       "  </thead>\n",
       "  <tbody>\n",
       "    <tr>\n",
       "      <th>663</th>\n",
       "      <td>385</td>\n",
       "      <td>Max \"Xam\" Abegglen</td>\n",
       "      <td>M</td>\n",
       "      <td>22.0</td>\n",
       "      <td>NaN</td>\n",
       "      <td>NaN</td>\n",
       "      <td>Switzerland</td>\n",
       "      <td>SUI</td>\n",
       "      <td>1924 Summer</td>\n",
       "      <td>1924</td>\n",
       "      <td>Summer</td>\n",
       "      <td>Paris</td>\n",
       "      <td>Football</td>\n",
       "      <td>Football Men's Football</td>\n",
       "      <td>Silver</td>\n",
       "    </tr>\n",
       "    <tr>\n",
       "      <th>664</th>\n",
       "      <td>385</td>\n",
       "      <td>Max \"Xam\" Abegglen</td>\n",
       "      <td>M</td>\n",
       "      <td>26.0</td>\n",
       "      <td>NaN</td>\n",
       "      <td>NaN</td>\n",
       "      <td>Switzerland</td>\n",
       "      <td>SUI</td>\n",
       "      <td>1928 Summer</td>\n",
       "      <td>1928</td>\n",
       "      <td>Summer</td>\n",
       "      <td>Amsterdam</td>\n",
       "      <td>Football</td>\n",
       "      <td>Football Men's Football</td>\n",
       "      <td>NaN</td>\n",
       "    </tr>\n",
       "    <tr>\n",
       "      <th>743</th>\n",
       "      <td>426</td>\n",
       "      <td>Edme Abetel (-Barr)</td>\n",
       "      <td>F</td>\n",
       "      <td>29.0</td>\n",
       "      <td>NaN</td>\n",
       "      <td>NaN</td>\n",
       "      <td>Switzerland</td>\n",
       "      <td>SUI</td>\n",
       "      <td>1952 Winter</td>\n",
       "      <td>1952</td>\n",
       "      <td>Winter</td>\n",
       "      <td>Oslo</td>\n",
       "      <td>Alpine Skiing</td>\n",
       "      <td>Alpine Skiing Women's Slalom</td>\n",
       "      <td>NaN</td>\n",
       "    </tr>\n",
       "    <tr>\n",
       "      <th>894</th>\n",
       "      <td>511</td>\n",
       "      <td>Tadesse Abraham</td>\n",
       "      <td>M</td>\n",
       "      <td>33.0</td>\n",
       "      <td>178.0</td>\n",
       "      <td>61.0</td>\n",
       "      <td>Switzerland</td>\n",
       "      <td>SUI</td>\n",
       "      <td>2016 Summer</td>\n",
       "      <td>2016</td>\n",
       "      <td>Summer</td>\n",
       "      <td>Rio de Janeiro</td>\n",
       "      <td>Athletics</td>\n",
       "      <td>Athletics Men's Marathon</td>\n",
       "      <td>NaN</td>\n",
       "    </tr>\n",
       "    <tr>\n",
       "      <th>994</th>\n",
       "      <td>560</td>\n",
       "      <td>Amir Abrashi</td>\n",
       "      <td>M</td>\n",
       "      <td>22.0</td>\n",
       "      <td>172.0</td>\n",
       "      <td>70.0</td>\n",
       "      <td>Switzerland</td>\n",
       "      <td>SUI</td>\n",
       "      <td>2012 Summer</td>\n",
       "      <td>2012</td>\n",
       "      <td>Summer</td>\n",
       "      <td>London</td>\n",
       "      <td>Football</td>\n",
       "      <td>Football Men's Football</td>\n",
       "      <td>NaN</td>\n",
       "    </tr>\n",
       "    <tr>\n",
       "      <th>...</th>\n",
       "      <td>...</td>\n",
       "      <td>...</td>\n",
       "      <td>...</td>\n",
       "      <td>...</td>\n",
       "      <td>...</td>\n",
       "      <td>...</td>\n",
       "      <td>...</td>\n",
       "      <td>...</td>\n",
       "      <td>...</td>\n",
       "      <td>...</td>\n",
       "      <td>...</td>\n",
       "      <td>...</td>\n",
       "      <td>...</td>\n",
       "      <td>...</td>\n",
       "      <td>...</td>\n",
       "    </tr>\n",
       "    <tr>\n",
       "      <th>270997</th>\n",
       "      <td>135512</td>\n",
       "      <td>Roland Zwahlen</td>\n",
       "      <td>M</td>\n",
       "      <td>24.0</td>\n",
       "      <td>186.0</td>\n",
       "      <td>73.0</td>\n",
       "      <td>Switzerland</td>\n",
       "      <td>SUI</td>\n",
       "      <td>2002 Winter</td>\n",
       "      <td>2002</td>\n",
       "      <td>Winter</td>\n",
       "      <td>Salt Lake City</td>\n",
       "      <td>Biathlon</td>\n",
       "      <td>Biathlon Men's 4 x 7.5 kilometres Relay</td>\n",
       "      <td>NaN</td>\n",
       "    </tr>\n",
       "    <tr>\n",
       "      <th>271021</th>\n",
       "      <td>135527</td>\n",
       "      <td>Rolf Zwicky</td>\n",
       "      <td>M</td>\n",
       "      <td>26.0</td>\n",
       "      <td>175.0</td>\n",
       "      <td>70.0</td>\n",
       "      <td>Switzerland</td>\n",
       "      <td>SUI</td>\n",
       "      <td>1984 Summer</td>\n",
       "      <td>1984</td>\n",
       "      <td>Summer</td>\n",
       "      <td>Los Angeles</td>\n",
       "      <td>Sailing</td>\n",
       "      <td>Sailing Mixed Multihull</td>\n",
       "      <td>NaN</td>\n",
       "    </tr>\n",
       "    <tr>\n",
       "      <th>271041</th>\n",
       "      <td>135541</td>\n",
       "      <td>Werner Zwimpfer</td>\n",
       "      <td>M</td>\n",
       "      <td>24.0</td>\n",
       "      <td>182.0</td>\n",
       "      <td>80.0</td>\n",
       "      <td>Switzerland</td>\n",
       "      <td>SUI</td>\n",
       "      <td>1968 Summer</td>\n",
       "      <td>1968</td>\n",
       "      <td>Summer</td>\n",
       "      <td>Mexico City</td>\n",
       "      <td>Rowing</td>\n",
       "      <td>Rowing Men's Coxless Pairs</td>\n",
       "      <td>NaN</td>\n",
       "    </tr>\n",
       "    <tr>\n",
       "      <th>271042</th>\n",
       "      <td>135542</td>\n",
       "      <td>Werner Zwingli</td>\n",
       "      <td>M</td>\n",
       "      <td>29.0</td>\n",
       "      <td>NaN</td>\n",
       "      <td>NaN</td>\n",
       "      <td>Switzerland</td>\n",
       "      <td>SUI</td>\n",
       "      <td>1956 Winter</td>\n",
       "      <td>1956</td>\n",
       "      <td>Winter</td>\n",
       "      <td>Cortina d'Ampezzo</td>\n",
       "      <td>Cross Country Skiing</td>\n",
       "      <td>Cross Country Skiing Men's 15 kilometres</td>\n",
       "      <td>NaN</td>\n",
       "    </tr>\n",
       "    <tr>\n",
       "      <th>271043</th>\n",
       "      <td>135542</td>\n",
       "      <td>Werner Zwingli</td>\n",
       "      <td>M</td>\n",
       "      <td>29.0</td>\n",
       "      <td>NaN</td>\n",
       "      <td>NaN</td>\n",
       "      <td>Switzerland</td>\n",
       "      <td>SUI</td>\n",
       "      <td>1956 Winter</td>\n",
       "      <td>1956</td>\n",
       "      <td>Winter</td>\n",
       "      <td>Cortina d'Ampezzo</td>\n",
       "      <td>Cross Country Skiing</td>\n",
       "      <td>Cross Country Skiing Men's 4 x 10 kilometres R...</td>\n",
       "      <td>NaN</td>\n",
       "    </tr>\n",
       "  </tbody>\n",
       "</table>\n",
       "<p>5844 rows × 15 columns</p>\n",
       "</div>"
      ],
      "text/plain": [
       "            ID                 Name Sex   Age  Height  Weight         Team  \\\n",
       "663        385   Max \"Xam\" Abegglen   M  22.0     NaN     NaN  Switzerland   \n",
       "664        385   Max \"Xam\" Abegglen   M  26.0     NaN     NaN  Switzerland   \n",
       "743        426  Edme Abetel (-Barr)   F  29.0     NaN     NaN  Switzerland   \n",
       "894        511      Tadesse Abraham   M  33.0   178.0    61.0  Switzerland   \n",
       "994        560         Amir Abrashi   M  22.0   172.0    70.0  Switzerland   \n",
       "...        ...                  ...  ..   ...     ...     ...          ...   \n",
       "270997  135512       Roland Zwahlen   M  24.0   186.0    73.0  Switzerland   \n",
       "271021  135527          Rolf Zwicky   M  26.0   175.0    70.0  Switzerland   \n",
       "271041  135541      Werner Zwimpfer   M  24.0   182.0    80.0  Switzerland   \n",
       "271042  135542       Werner Zwingli   M  29.0     NaN     NaN  Switzerland   \n",
       "271043  135542       Werner Zwingli   M  29.0     NaN     NaN  Switzerland   \n",
       "\n",
       "        NOC        Games  Year  Season               City  \\\n",
       "663     SUI  1924 Summer  1924  Summer              Paris   \n",
       "664     SUI  1928 Summer  1928  Summer          Amsterdam   \n",
       "743     SUI  1952 Winter  1952  Winter               Oslo   \n",
       "894     SUI  2016 Summer  2016  Summer     Rio de Janeiro   \n",
       "994     SUI  2012 Summer  2012  Summer             London   \n",
       "...     ...          ...   ...     ...                ...   \n",
       "270997  SUI  2002 Winter  2002  Winter     Salt Lake City   \n",
       "271021  SUI  1984 Summer  1984  Summer        Los Angeles   \n",
       "271041  SUI  1968 Summer  1968  Summer        Mexico City   \n",
       "271042  SUI  1956 Winter  1956  Winter  Cortina d'Ampezzo   \n",
       "271043  SUI  1956 Winter  1956  Winter  Cortina d'Ampezzo   \n",
       "\n",
       "                       Sport  \\\n",
       "663                 Football   \n",
       "664                 Football   \n",
       "743            Alpine Skiing   \n",
       "894                Athletics   \n",
       "994                 Football   \n",
       "...                      ...   \n",
       "270997              Biathlon   \n",
       "271021               Sailing   \n",
       "271041                Rowing   \n",
       "271042  Cross Country Skiing   \n",
       "271043  Cross Country Skiing   \n",
       "\n",
       "                                                    Event   Medal  \n",
       "663                               Football Men's Football  Silver  \n",
       "664                               Football Men's Football     NaN  \n",
       "743                          Alpine Skiing Women's Slalom     NaN  \n",
       "894                              Athletics Men's Marathon     NaN  \n",
       "994                               Football Men's Football     NaN  \n",
       "...                                                   ...     ...  \n",
       "270997            Biathlon Men's 4 x 7.5 kilometres Relay     NaN  \n",
       "271021                            Sailing Mixed Multihull     NaN  \n",
       "271041                         Rowing Men's Coxless Pairs     NaN  \n",
       "271042           Cross Country Skiing Men's 15 kilometres     NaN  \n",
       "271043  Cross Country Skiing Men's 4 x 10 kilometres R...     NaN  \n",
       "\n",
       "[5844 rows x 15 columns]"
      ]
     },
     "execution_count": 102,
     "metadata": {},
     "output_type": "execute_result"
    }
   ],
   "source": [
    "df[(df.Team == 'Switzerland')]"
   ]
  },
  {
   "cell_type": "code",
   "execution_count": 78,
   "metadata": {},
   "outputs": [
    {
     "data": {
      "text/plain": [
       "0         False\n",
       "1         False\n",
       "2         False\n",
       "3          True\n",
       "4         False\n",
       "          ...  \n",
       "271111    False\n",
       "271112    False\n",
       "271113    False\n",
       "271114    False\n",
       "271115    False\n",
       "Name: Medal, Length: 271116, dtype: bool"
      ]
     },
     "execution_count": 78,
     "metadata": {},
     "output_type": "execute_result"
    }
   ],
   "source": [
    "df.Medal == 'Gold'"
   ]
  },
  {
   "cell_type": "code",
   "execution_count": 79,
   "metadata": {},
   "outputs": [
    {
     "data": {
      "text/plain": [
       "0         False\n",
       "1         False\n",
       "2         False\n",
       "3         False\n",
       "4         False\n",
       "          ...  \n",
       "271111    False\n",
       "271112    False\n",
       "271113    False\n",
       "271114    False\n",
       "271115    False\n",
       "Name: Team, Length: 271116, dtype: bool"
      ]
     },
     "execution_count": 79,
     "metadata": {},
     "output_type": "execute_result"
    }
   ],
   "source": [
    "df.Team == 'Switzerland'"
   ]
  },
  {
   "cell_type": "markdown",
   "metadata": {
    "colab_type": "text",
    "id": "6OEHKnCsQXTk"
   },
   "source": [
    "Q6. Is it true that Italy won fewer medals than Portugal at the 2016 Olympics? "
   ]
  },
  {
   "cell_type": "code",
   "execution_count": 182,
   "metadata": {},
   "outputs": [
    {
     "name": "stdout",
     "output_type": "stream",
     "text": [
      "Portugal won 1 medals, whereas italy won 70 medals. Therefore this statement is  False !\n"
     ]
    },
    {
     "name": "stderr",
     "output_type": "stream",
     "text": [
      "/home/jakob/.local/lib/python3.6/site-packages/ipykernel_launcher.py:2: UserWarning: Boolean Series key will be reindexed to match DataFrame index.\n",
      "  \n",
      "/home/jakob/.local/lib/python3.6/site-packages/ipykernel_launcher.py:3: UserWarning: Boolean Series key will be reindexed to match DataFrame index.\n",
      "  This is separate from the ipykernel package so we can avoid doing imports until\n"
     ]
    }
   ],
   "source": [
    "wm = df[(df.Medal == 'Gold') | (df.Medal == 'Silver') | (df.Medal == 'Bronze')] # wm means won medal\n",
    "italy_medals =    wm[(df.Year == 2016) & (df.Team == 'Italy')].shape[0]\n",
    "portugal_medals = wm[(df.Year == 2016) & (df.Team == 'Portugal')].shape[0]\n",
    "print(\"Portugal won\", portugal_medals,'medals, whereas italy won', italy_medals,'medals. Therefore this statement is ', italy_medals < portugal_medals,'!')"
   ]
  },
  {
   "cell_type": "markdown",
   "metadata": {
    "colab_type": "text",
    "id": "qhgv9n8mRp7i"
   },
   "source": [
    "Q7. What are the most and least common age groups among the participants of the 2008 Olympics? \n",
    "Please use these age groups: \n",
    "```young  = (10, 35), middle-aged = (36, 55), old = (from 56, ...)```"
   ]
  },
  {
   "cell_type": "code",
   "execution_count": 183,
   "metadata": {},
   "outputs": [
    {
     "data": {
      "text/plain": [
       "{'old': 0, 'young': 271116, 'middle': 0, 'middle-aged': 0}"
      ]
     },
     "execution_count": 183,
     "metadata": {},
     "output_type": "execute_result"
    }
   ],
   "source": [
    "age_groups['old'] = df[(df.Year == '2008') & df.Age >= 56.0].shape[0]\n",
    "age_groups['young'] = df[(df.Year == '2008') & df.Age <= 35.0].shape[0]\n",
    "age_groups['middle-aged'] = df[(df.Year == '2008') & (df.Age >= 35.0) & (df.Age <= 55.0)].shape[0]\n",
    "age_groups"
   ]
  },
  {
   "cell_type": "code",
   "execution_count": 184,
   "metadata": {},
   "outputs": [
    {
     "name": "stdout",
     "output_type": "stream",
     "text": [
      "Most common age group: young\n",
      "Least common age group: middle\n",
      "But as both \"old\" and \"middle-aged\" have no members the least common groups are both \"old\" and \"middle-aged\"\n"
     ]
    }
   ],
   "source": [
    "print('Most common age group:', max(age_groups))\n",
    "print('Least common age group:', min(age_groups))\n",
    "print('But as both \"old\" and \"middle-aged\" have no members the least common groups are both \"old\" and \"middle-aged\"')"
   ]
  },
  {
   "cell_type": "markdown",
   "metadata": {
    "colab_type": "text",
    "id": "OFlUPdA4RXI0"
   },
   "source": [
    "Q8. Task. Please replace NaNs for two features: `Height, Weight`. Please explain your strategy."
   ]
  },
  {
   "cell_type": "code",
   "execution_count": null,
   "metadata": {
    "colab": {},
    "colab_type": "code",
    "id": "6NLGZm0x5InK"
   },
   "outputs": [],
   "source": []
  },
  {
   "cell_type": "markdown",
   "metadata": {
    "colab_type": "text",
    "id": "Fc9cwWx-5-ou"
   },
   "source": [
    "Q9. Please indicate categorical features in a data set. Store feature names in a list. \n",
    "How many categorical features did you find? "
   ]
  },
  {
   "cell_type": "code",
   "execution_count": null,
   "metadata": {
    "colab": {},
    "colab_type": "code",
    "id": "pA2J6doW57IK"
   },
   "outputs": [],
   "source": []
  }
 ],
 "metadata": {
  "colab": {
   "collapsed_sections": [],
   "name": "Homework_2_[lastname]_[firstname]_[matrikelnr].ipynb",
   "provenance": []
  },
  "kernelspec": {
   "display_name": "Python 3",
   "language": "python",
   "name": "python3"
  },
  "language_info": {
   "codemirror_mode": {
    "name": "ipython",
    "version": 3
   },
   "file_extension": ".py",
   "mimetype": "text/x-python",
   "name": "python",
   "nbconvert_exporter": "python",
   "pygments_lexer": "ipython3",
   "version": "3.6.8"
  }
 },
 "nbformat": 4,
 "nbformat_minor": 1
}
